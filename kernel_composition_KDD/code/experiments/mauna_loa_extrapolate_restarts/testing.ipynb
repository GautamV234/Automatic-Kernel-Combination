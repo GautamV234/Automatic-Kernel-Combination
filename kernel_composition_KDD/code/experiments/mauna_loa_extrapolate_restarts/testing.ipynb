{
 "cells": [
  {
   "cell_type": "code",
   "execution_count": 1,
   "metadata": {},
   "outputs": [
    {
     "name": "stdout",
     "output_type": "stream",
     "text": [
      "Collecting GPy\n",
      "  Using cached GPy-1.10.0.tar.gz (959 kB)\n",
      "  Preparing metadata (setup.py) ... \u001b[?25ldone\n",
      "\u001b[?25hRequirement already satisfied: numpy>=1.7 in /home/gautam.pv/miniconda3/envs/akc_env_kkd/lib/python3.10/site-packages (from GPy) (1.23.5)\n",
      "Requirement already satisfied: six in /home/gautam.pv/miniconda3/envs/akc_env_kkd/lib/python3.10/site-packages (from GPy) (1.16.0)\n",
      "Collecting paramz>=0.9.0\n",
      "  Using cached paramz-0.9.5.tar.gz (71 kB)\n",
      "  Preparing metadata (setup.py) ... \u001b[?25ldone\n",
      "\u001b[?25hCollecting cython>=0.29\n",
      "  Downloading Cython-0.29.33-cp310-cp310-manylinux_2_17_x86_64.manylinux2014_x86_64.manylinux_2_24_x86_64.whl (1.9 MB)\n",
      "\u001b[2K     \u001b[90m━━━━━━━━━━━━━━━━━━━━━━━━━━━━━━━━━━━━━━━━\u001b[0m \u001b[32m1.9/1.9 MB\u001b[0m \u001b[31m7.4 MB/s\u001b[0m eta \u001b[36m0:00:00\u001b[0m00:01\u001b[0m00:01\u001b[0m\n",
      "\u001b[?25hRequirement already satisfied: scipy>=1.3.0 in /home/gautam.pv/miniconda3/envs/akc_env_kkd/lib/python3.10/site-packages (from GPy) (1.9.3)\n",
      "Requirement already satisfied: decorator>=4.0.10 in /home/gautam.pv/miniconda3/envs/akc_env_kkd/lib/python3.10/site-packages (from paramz>=0.9.0->GPy) (5.1.1)\n",
      "Building wheels for collected packages: GPy, paramz\n",
      "  Building wheel for GPy (setup.py) ... \u001b[?25ldone\n",
      "\u001b[?25h  Created wheel for GPy: filename=GPy-1.10.0-cp310-cp310-linux_x86_64.whl size=1560608 sha256=eb50f46cdf99585f10b6489743cf42d49f604bea7886a131250dcf038c5da49c\n",
      "  Stored in directory: /home/gautam.pv/.cache/pip/wheels/1c/13/d2/18ba56e6f6bf00c6f1562724da66f84537d17febb0415c4aa7\n",
      "  Building wheel for paramz (setup.py) ... \u001b[?25ldone\n",
      "\u001b[?25h  Created wheel for paramz: filename=paramz-0.9.5-py3-none-any.whl size=102549 sha256=d8d940bd9c226b1c465ec41fd8da3008be60445f4f2d47a51726ae034a3f2ca7\n",
      "  Stored in directory: /home/gautam.pv/.cache/pip/wheels/a4/e7/da/52596690bfd1d424fdd41bde0e13cd9d35a816314bb3f00a6e\n",
      "Successfully built GPy paramz\n",
      "Installing collected packages: cython, paramz, GPy\n",
      "Successfully installed GPy-1.10.0 cython-0.29.33 paramz-0.9.5\n",
      "Note: you may need to restart the kernel to use updated packages.\n"
     ]
    }
   ],
   "source": [
    "%pip install GPy"
   ]
  },
  {
   "cell_type": "code",
   "execution_count": 2,
   "metadata": {},
   "outputs": [],
   "source": [
    "# Create a simple 1 d dataset for Gaussian process regression\n",
    "import numpy as np\n",
    "import matplotlib.pyplot as plt\n",
    "import GPy\n",
    "import os\n",
    "import scipy.io as sio\n",
    "from sklearn.model_selection import train_test_split\n",
    "from sklearn.preprocessing import StandardScaler\n",
    "import matplotlib.pyplot as plt\n",
    "import GPy\n"
   ]
  },
  {
   "cell_type": "code",
   "execution_count": 3,
   "metadata": {},
   "outputs": [
    {
     "data": {
      "image/png": "[encoded data removed]",
      "text/plain": [
       "<Figure size 640x480 with 1 Axes>"
      ]
     },
     "metadata": {},
     "output_type": "display_data"
    }
   ],
   "source": [
    "x = np.linspace(0, 10, 100)\n",
    "y = np.sin(x) + np.random.randn(100) * 0.05\n",
    "plt.plot(x, y, 'kx', mew=2)\n",
    "plt.show()"
   ]
  },
  {
   "cell_type": "code",
   "execution_count": 4,
   "metadata": {},
   "outputs": [],
   "source": [
    "m = GPy.models.GPRegression(x[:, None], y[:, None], GPy.kern.RBF(1))"
   ]
  },
  {
   "cell_type": "code",
   "execution_count": 5,
   "metadata": {},
   "outputs": [
    {
     "name": "stdout",
     "output_type": "stream",
     "text": [
      "Optimization restart 1/10, f = -144.6976284326717\n",
      "Optimization restart 2/10, f = -144.69762843264866\n",
      "Optimization restart 3/10, f = -144.69762843268427\n",
      "Optimization restart 4/10, f = -144.69762842817008\n",
      "Optimization restart 5/10, f = -144.69762843264434\n",
      "Optimization restart 6/10, f = -144.697628432666\n",
      "Optimization restart 7/10, f = -144.69762843266545\n",
      "Optimization restart 8/10, f = -144.6976284317747\n",
      "Optimization restart 9/10, f = -144.6976284325037\n",
      "Optimization restart 10/10, f = -144.697628432648\n"
     ]
    },
    {
     "data": {
      "text/plain": [
       "[<paramz.optimization.optimization.opt_lbfgsb at 0x7f72a620fd90>,\n",
       " <paramz.optimization.optimization.opt_lbfgsb at 0x7f726f702ad0>,\n",
       " <paramz.optimization.optimization.opt_lbfgsb at 0x7f726f702a70>,\n",
       " <paramz.optimization.optimization.opt_lbfgsb at 0x7f72a620c370>,\n",
       " <paramz.optimization.optimization.opt_lbfgsb at 0x7f72a620e050>,\n",
       " <paramz.optimization.optimization.opt_lbfgsb at 0x7f72a620c340>,\n",
       " <paramz.optimization.optimization.opt_lbfgsb at 0x7f726f7d28c0>,\n",
       " <paramz.optimization.optimization.opt_lbfgsb at 0x7f726f2e9f00>,\n",
       " <paramz.optimization.optimization.opt_lbfgsb at 0x7f726f2ea1a0>,\n",
       " <paramz.optimization.optimization.opt_lbfgsb at 0x7f726ea199c0>]"
      ]
     },
     "execution_count": 5,
     "metadata": {},
     "output_type": "execute_result"
    }
   ],
   "source": [
    "m.optimize_restarts(10)"
   ]
  },
  {
   "cell_type": "code",
   "execution_count": 6,
   "metadata": {},
   "outputs": [
    {
     "data": {
      "text/html": [
       "<style type=\"text/css\">\n",
       ".pd{\n",
       "    font-family: \"Courier New\", Courier, monospace !important;\n",
       "    width: 100%;\n",
       "    padding: 3px;\n",
       "}\n",
       "</style>\n",
       "\n",
       "<p class=pd>\n",
       "<b>Model</b>: GP regression<br>\n",
       "<b>Objective</b>: -144.69762843268427<br>\n",
       "<b>Number of Parameters</b>: 3<br>\n",
       "<b>Number of Optimization Parameters</b>: 3<br>\n",
       "<b>Updates</b>: True<br>\n",
       "</p>\n",
       "<style type=\"text/css\">\n",
       ".tg  {font-family:\"Courier New\", Courier, monospace !important;padding:2px 3px;word-break:normal;border-collapse:collapse;border-spacing:0;border-color:#DCDCDC;margin:0px auto;width:100%;}\n",
       ".tg td{font-family:\"Courier New\", Courier, monospace !important;font-weight:bold;color:#444;background-color:#F7FDFA;border-style:solid;border-width:1px;overflow:hidden;word-break:normal;border-color:#DCDCDC;}\n",
       ".tg th{font-family:\"Courier New\", Courier, monospace !important;font-weight:normal;color:#fff;background-color:#26ADE4;border-style:solid;border-width:1px;overflow:hidden;word-break:normal;border-color:#DCDCDC;}\n",
       ".tg .tg-left{font-family:\"Courier New\", Courier, monospace !important;font-weight:normal;text-align:left;}\n",
       ".tg .tg-center{font-family:\"Courier New\", Courier, monospace !important;font-weight:normal;text-align:center;}\n",
       ".tg .tg-right{font-family:\"Courier New\", Courier, monospace !important;font-weight:normal;text-align:right;}\n",
       "</style>\n",
       "<table class=\"tg\"><tr><th><b>  GP_regression.         </b></th><th><b>                value</b></th><th><b>constraints</b></th><th><b>priors</b></th></tr>\n",
       "<tr><td class=tg-left>  rbf.variance           </td><td class=tg-right>   1.9123949321773477</td><td class=tg-center>    +ve    </td><td class=tg-center>      </td></tr>\n",
       "<tr><td class=tg-left>  rbf.lengthscale        </td><td class=tg-right>   2.2741875319825784</td><td class=tg-center>    +ve    </td><td class=tg-center>      </td></tr>\n",
       "<tr><td class=tg-left>  Gaussian_noise.variance</td><td class=tg-right>0.0017562344648439526</td><td class=tg-center>    +ve    </td><td class=tg-center>      </td></tr>\n",
       "</table>"
      ],
      "text/plain": [
       "<GPy.models.gp_regression.GPRegression at 0x7f726f2ea110>"
      ]
     },
     "execution_count": 6,
     "metadata": {},
     "output_type": "execute_result"
    }
   ],
   "source": [
    "m"
   ]
  },
  {
   "cell_type": "code",
   "execution_count": 7,
   "metadata": {},
   "outputs": [
    {
     "data": {
      "text/plain": [
       "144.69762843268427"
      ]
     },
     "execution_count": 7,
     "metadata": {},
     "output_type": "execute_result"
    }
   ],
   "source": [
    "# Get the loss for variance = 1 and lengthscale = 1\n",
    "m.log_likelihood()\n"
   ]
  },
  {
   "cell_type": "code",
   "execution_count": 8,
   "metadata": {},
   "outputs": [
    {
     "data": {
      "text/plain": [
       "144.69762843268427"
      ]
     },
     "execution_count": 8,
     "metadata": {},
     "output_type": "execute_result"
    }
   ],
   "source": [
    "m.variance = 1\n",
    "m.lengthscale = 1\n",
    "m.log_likelihood()"
   ]
  },
  {
   "cell_type": "code",
   "execution_count": 1,
   "metadata": {},
   "outputs": [
    {
     "ename": "ImportError",
     "evalue": "/home/gautam.pv/miniconda3/envs/akc_env_kkd/lib/python3.10/site-packages/torch/lib/libtorch_cuda_cpp.so: undefined symbol: cudaGraphRetainUserObject, version libcudart.so.11.0",
     "output_type": "error",
     "traceback": [
      "\u001b[0;31m---------------------------------------------------------------------------\u001b[0m",
      "\u001b[0;31mImportError\u001b[0m                               Traceback (most recent call last)",
      "Cell \u001b[0;32mIn[1], line 2\u001b[0m\n\u001b[1;32m      1\u001b[0m \u001b[39m# do the same thing in GPyTorch\u001b[39;00m\n\u001b[0;32m----> 2\u001b[0m \u001b[39mimport\u001b[39;00m \u001b[39mtorch\u001b[39;00m\n",
      "File \u001b[0;32m~/miniconda3/envs/akc_env_kkd/lib/python3.10/site-packages/torch/__init__.py:218\u001b[0m\n\u001b[1;32m    216\u001b[0m     \u001b[39mif\u001b[39;00m USE_GLOBAL_DEPS:\n\u001b[1;32m    217\u001b[0m         _load_global_deps()\n\u001b[0;32m--> 218\u001b[0m     \u001b[39mfrom\u001b[39;00m \u001b[39mtorch\u001b[39;00m\u001b[39m.\u001b[39;00m\u001b[39m_C\u001b[39;00m \u001b[39mimport\u001b[39;00m \u001b[39m*\u001b[39m  \u001b[39m# noqa: F403\u001b[39;00m\n\u001b[1;32m    220\u001b[0m \u001b[39m# Appease the type checker; ordinarily this binding is inserted by the\u001b[39;00m\n\u001b[1;32m    221\u001b[0m \u001b[39m# torch._C module initialization code in C\u001b[39;00m\n\u001b[1;32m    222\u001b[0m \u001b[39mif\u001b[39;00m TYPE_CHECKING:\n",
      "\u001b[0;31mImportError\u001b[0m: /home/gautam.pv/miniconda3/envs/akc_env_kkd/lib/python3.10/site-packages/torch/lib/libtorch_cuda_cpp.so: undefined symbol: cudaGraphRetainUserObject, version libcudart.so.11.0"
     ]
    }
   ],
   "source": [
    "# do the same thing in GPyTorch\n",
    "import torch\n",
    "import gpytorch\n",
    "from matplotlib import pyplot as plt\n",
    "from gpytorch.kernels import ScaleKernel, RBFKernel\n",
    "from gpytorch.means import ConstantMean\n",
    "from gpytorch.likelihoods import GaussianLikelihood\n",
    "from gpytorch.mlls import ExactMarginalLogLikelihood\n",
    "from gpytorch.distributions import MultivariateNormal\n",
    "from gpytorch.models import ExactGP\n",
    "from gpytorch.priors import GammaPrior, NormalPrior\n",
    "from gpytorch.constraints import GreaterThan\n",
    "from gpytorch.kernels import Kernel\n",
    "from gpytorch.kernels import RBFKernel, ScaleKernel"
   ]
  },
  {
   "cell_type": "code",
   "execution_count": null,
   "metadata": {},
   "outputs": [],
   "source": [
    "# create the model in gpytorch\n",
    "class ExactGPModel(ExactGP):\n",
    "    def __init__(self, train_x, train_y, likelihood):\n",
    "        super(ExactGPModel, self).__init__(train_x, train_y, likelihood)\n",
    "        self.mean_module = ConstantMean()\n",
    "        self.covar_module = ScaleKernel(RBFKernel(scale=1.0, lengthscale=1.0))\n",
    "\n",
    "    def forward(self, x):\n",
    "        mean_x = self.mean_module(x)\n",
    "        covar_x = self.covar_module(x)\n",
    "        return MultivariateNormal(mean_x, covar_x)\n",
    "\n",
    "# train the model\n",
    "# initialize the model\n",
    "# initialize the likelihood\n",
    "likelihood = GaussianLikelihood()\n",
    "model = ExactGPModel(torch.from_numpy(x).float().unsqueeze(-1), torch.from_numpy(y).float().unsqueeze(-1), likelihood)\n",
    "num_epochs = 100\n",
    "training_iter = 100\n",
    "# Find optimal model hyperparameters\n",
    "# Use the adam optimizer\n",
    "# \"Loss\" for GPs - the marginal log likelihood\n",
    "# Defines the model and likelihood\n",
    "model.train()\n",
    "likelihood.train()\n",
    "for epoch in range(num_epochs):\n",
    "    # Within each iteration, we will go over each minibatch of data\n",
    "    for i in range(training_iter):\n",
    "        # Zero backpropped gradients from previous iteration\n",
    "        optimizer.zero_grad()\n",
    "        # Get predictive output\n",
    "        output = model(train_x)\n",
    "        # Calc loss and backprop gradients\n",
    "        loss = -mll(output, train_y)\n",
    "        loss.backward()\n",
    "        print('Iter %d/%d - Loss: %.3f' % (i + 1, training_iter, loss.item()))\n",
    "        optimizer.step() \n",
    "# get the likelihood\n",
    "likelihood.eval()\n",
    "model.eval()\n",
    "with torch.no_grad(), gpytorch.settings.fast_pred_var():\n",
    "    test_x = torch.linspace(0, 10, 100)\n",
    "    observed_pred = likelihood(model(test_x))\n",
    "    # Get upper and lower confidence bounds\n",
    "    lower, upper = observed_pred.confidence_region()\n",
    "    # Initialize plot\n",
    "    f, ax = plt.subplots(1, 1, figsize=(4, 3))\n",
    "    # Get upper and lower confidence bounds\n",
    "    lower, upper = observed_pred.confidence_region()\n",
    "    # Plot training data as black stars\n",
    "    ax.plot(train_x.numpy(), train_y.numpy(), 'k*')\n",
    "    # Plot predictive means as blue line\n",
    "    ax.plot(test_x.numpy(), observed_pred.mean.numpy(), 'b')\n",
    "    # Shade between the lower and upper confidence bounds\n",
    "    ax.fill_between(test_x.numpy(), lower.numpy(), upper.numpy(), alpha=0.5)\n",
    "    ax.set_ylim([-3, 3])\n",
    "    ax.legend(['Observed Data', 'Mean', 'Confidence'])"
   ]
  },
  {
   "cell_type": "code",
   "execution_count": null,
   "metadata": {},
   "outputs": [],
   "source": [
    "# use lbfgs to train a GP Regression model using GPYtorch\n",
    "# initialize the model\n",
    "# initialize the likelihood\n",
    "likelihood = GaussianLikelihood()\n",
    "model = ExactGPModel(torch.from_numpy(x).float().unsqueeze(-1), torch.from_numpy(y).float().unsqueeze(-1), likelihood)\n",
    "# Find optimal model hyperparameters\n",
    "# Use the adam optimizer\n",
    "# \"Loss\" for GPs - the marginal log likelihood\n",
    "# Defines the model and likelihood\n",
    "model.train()\n",
    "likelihood.train()\n",
    "# Use the LBFGS optimizer\n",
    "optimizer = torch.optim.LBFGS(model.parameters(), lr=0.1)\n",
    "# \"Loss\" for GPs - the marginal log likelihood\n",
    "mll = gpytorch.mlls.ExactMarginalLogLikelihood(likelihood, model)\n",
    "# Define training iterations\n",
    "training_iter = 100\n",
    "for i in range(training_iter):\n",
    "    # Zero backpropped gradients from previous iteration\n",
    "    def closure():\n",
    "        optimizer.zero_grad()\n",
    "        output = model(train_x)\n",
    "        loss = -mll(output, train_y)\n",
    "        return loss\n",
    "    loss = optimizer.step(closure)\n",
    "    print('Iter %d/%d - Loss: %.3f' % (i + 1, training_iter, loss.item()))"
   ]
  }
 ],
 "metadata": {
  "kernelspec": {
   "display_name": "akc_env_kkd",
   "language": "python",
   "name": "python3"
  },
  "language_info": {
   "codemirror_mode": {
    "name": "ipython",
    "version": 3
   },
   "file_extension": ".py",
   "mimetype": "text/x-python",
   "name": "python",
   "nbconvert_exporter": "python",
   "pygments_lexer": "ipython3",
   "version": "3.10.9"
  },
  "orig_nbformat": 4,
  "vscode": {
   "interpreter": {
    "hash": "1ac90ba00bc655bf124af03dfb1487b3a1bada0c5e03441f9d0354d02b55eb66"
   }
  }
 },
 "nbformat": 4,
 "nbformat_minor": 2
}
